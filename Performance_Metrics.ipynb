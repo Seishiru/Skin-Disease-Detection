{
 "cells": [
  {
   "cell_type": "markdown",
   "id": "6e3187d0",
   "metadata": {},
   "source": [
    "# Performance Metrics and Graph Interpretations 📊"
   ]
  },
  {
   "cell_type": "markdown",
   "id": "a73efe75",
   "metadata": {},
   "source": [
    "## Confusion Matrix 🎭"
   ]
  },
  {
   "cell_type": "markdown",
   "id": "475ad1f6",
   "metadata": {},
   "source": [
    "A **confusion matrix** is a table used to evaluate classification models. It shows the actual vs. predicted classifications.\n",
    "\n",
    "**✅ Good:** High values in True Positive (TP) & True Negative (TN)\n",
    "**❌ Bad:** High values in False Positive (FP) & False Negative (FN)"
   ]
  },
  {
   "cell_type": "markdown",
   "id": "eb9bc6d8",
   "metadata": {},
   "source": [
    "## Normalized Confusion Matrix 📊"
   ]
  },
  {
   "cell_type": "markdown",
   "id": "cba94483",
   "metadata": {},
   "source": [
    "A **normalized confusion matrix** scales the values between 0 and 1, making it easier to compare across different datasets.\n",
    "\n",
    "**✅ Good:** Diagonal values close to 1\n",
    "**❌ Bad:** High values in off-diagonal elements"
   ]
  },
  {
   "cell_type": "markdown",
   "id": "cf4a1a50",
   "metadata": {},
   "source": [
    "## Precision-Recall Curve (PR Curve) 📈"
   ]
  },
  {
   "cell_type": "markdown",
   "id": "a0f68a05",
   "metadata": {},
   "source": [
    "The **PR Curve** plots Precision vs. Recall at different thresholds.\n",
    "\n",
    "**✅ Good:** High Precision and Recall, close to top-right corner\n",
    "**❌ Bad:** Low Precision or Recall, spread out in lower regions"
   ]
  },
  {
   "cell_type": "markdown",
   "id": "483fde2a",
   "metadata": {},
   "source": [
    "## Precision Curve 🎯"
   ]
  },
  {
   "cell_type": "markdown",
   "id": "0b7bc997",
   "metadata": {},
   "source": [
    "Shows how Precision changes with different confidence thresholds.\n",
    "\n",
    "**✅ Good:** Precision remains high as threshold increases\n",
    "**❌ Bad:** Sharp drop in Precision at lower thresholds"
   ]
  },
  {
   "cell_type": "markdown",
   "id": "9431799c",
   "metadata": {},
   "source": [
    "## Recall Curve 🔄"
   ]
  },
  {
   "cell_type": "markdown",
   "id": "858e1c72",
   "metadata": {},
   "source": [
    "Displays how Recall varies with different confidence thresholds.\n",
    "\n",
    "**✅ Good:** Recall stays consistently high\n",
    "**❌ Bad:** Recall drops quickly"
   ]
  },
  {
   "cell_type": "markdown",
   "id": "dd2f3ba0",
   "metadata": {},
   "source": [
    "## F1 Score Curve ⚖️"
   ]
  },
  {
   "cell_type": "markdown",
   "id": "cf0efa23",
   "metadata": {},
   "source": [
    "F1 Score balances Precision and Recall (F1 = 2 * (Precision * Recall) / (Precision + Recall)).\n",
    "\n",
    "**✅ Good:** Smooth curve with high F1 scores\n",
    "**❌ Bad:** Fluctuating or low F1 values"
   ]
  }
 ],
 "metadata": {
  "language_info": {
   "name": "python"
  }
 },
 "nbformat": 4,
 "nbformat_minor": 5
}
